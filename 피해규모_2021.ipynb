{
 "cells": [
  {
   "cell_type": "code",
   "execution_count": 2,
   "id": "89b7cc1c",
   "metadata": {},
   "outputs": [],
   "source": [
    "import numpy as np\n",
    "import pandas as pd\n",
    "import matplotlib.pyplot as plt\n",
    "import seaborn as sns\n",
    "import missingno as msno"
   ]
  },
  {
   "cell_type": "code",
   "execution_count": 3,
   "id": "25ed8e54",
   "metadata": {},
   "outputs": [],
   "source": [
    "df=pd.read_csv('../data/화학배관 10종 사고 피해규모 정보_2021년.csv')"
   ]
  },
  {
   "cell_type": "code",
   "execution_count": 4,
   "id": "a9ca2e74",
   "metadata": {},
   "outputs": [
    {
     "data": {
      "text/html": [
       "<div>\n",
       "<style scoped>\n",
       "    .dataframe tbody tr th:only-of-type {\n",
       "        vertical-align: middle;\n",
       "    }\n",
       "\n",
       "    .dataframe tbody tr th {\n",
       "        vertical-align: top;\n",
       "    }\n",
       "\n",
       "    .dataframe thead th {\n",
       "        text-align: right;\n",
       "    }\n",
       "</style>\n",
       "<table border=\"1\" class=\"dataframe\">\n",
       "  <thead>\n",
       "    <tr style=\"text-align: right;\">\n",
       "      <th></th>\n",
       "      <th>ACDNT_DMGE_SCALE_UQNUM</th>\n",
       "      <th>ACDNT_DMGE_SCALE_NO</th>\n",
       "      <th>PIPE_NO</th>\n",
       "      <th>CO_INFO</th>\n",
       "      <th>ACDNT_TYPE</th>\n",
       "      <th>TOXICITY_DIST</th>\n",
       "      <th>RDA_DIST</th>\n",
       "      <th>EXPS_DIST</th>\n",
       "      <th>DMGE_TYPE</th>\n",
       "      <th>PIPE_ACDNT_DMGE_ARA</th>\n",
       "      <th>...</th>\n",
       "      <th>PIPE_LT</th>\n",
       "      <th>PIPE_MATR_CODE</th>\n",
       "      <th>PIPE_COAT_MATR_CODE</th>\n",
       "      <th>PIPE_DESGN_THICKNESS</th>\n",
       "      <th>PIPE_OPRT_TP</th>\n",
       "      <th>PIPE_INNER_FUD_STA_CODE</th>\n",
       "      <th>MATR_CODE</th>\n",
       "      <th>PIPE_PRESSURE</th>\n",
       "      <th>PIPE_FLRT</th>\n",
       "      <th>PIPE_INSTL_YEAR</th>\n",
       "    </tr>\n",
       "  </thead>\n",
       "  <tbody>\n",
       "    <tr>\n",
       "      <th>0</th>\n",
       "      <td>1</td>\n",
       "      <td>1</td>\n",
       "      <td>110</td>\n",
       "      <td>회사1</td>\n",
       "      <td>rupture</td>\n",
       "      <td>0.000</td>\n",
       "      <td>118.9590</td>\n",
       "      <td>167.4820</td>\n",
       "      <td>TOXIC</td>\n",
       "      <td>0.000000</td>\n",
       "      <td>...</td>\n",
       "      <td>1321.31</td>\n",
       "      <td>1</td>\n",
       "      <td>2</td>\n",
       "      <td>5.9</td>\n",
       "      <td>20</td>\n",
       "      <td>2</td>\n",
       "      <td>7</td>\n",
       "      <td>{0,10)</td>\n",
       "      <td>{50,60)</td>\n",
       "      <td>1977</td>\n",
       "    </tr>\n",
       "    <tr>\n",
       "      <th>1</th>\n",
       "      <td>2</td>\n",
       "      <td>1</td>\n",
       "      <td>110</td>\n",
       "      <td>회사1</td>\n",
       "      <td>rupture</td>\n",
       "      <td>0.000</td>\n",
       "      <td>118.9590</td>\n",
       "      <td>167.4820</td>\n",
       "      <td>RADIATION</td>\n",
       "      <td>25428.065750</td>\n",
       "      <td>...</td>\n",
       "      <td>1321.31</td>\n",
       "      <td>1</td>\n",
       "      <td>2</td>\n",
       "      <td>5.9</td>\n",
       "      <td>20</td>\n",
       "      <td>2</td>\n",
       "      <td>7</td>\n",
       "      <td>{0,10)</td>\n",
       "      <td>{50,60)</td>\n",
       "      <td>1977</td>\n",
       "    </tr>\n",
       "    <tr>\n",
       "      <th>2</th>\n",
       "      <td>3</td>\n",
       "      <td>1</td>\n",
       "      <td>110</td>\n",
       "      <td>회사1</td>\n",
       "      <td>rupture</td>\n",
       "      <td>0.000</td>\n",
       "      <td>118.9590</td>\n",
       "      <td>167.4820</td>\n",
       "      <td>EXPLOSION</td>\n",
       "      <td>0.000000</td>\n",
       "      <td>...</td>\n",
       "      <td>1321.31</td>\n",
       "      <td>1</td>\n",
       "      <td>2</td>\n",
       "      <td>5.9</td>\n",
       "      <td>20</td>\n",
       "      <td>2</td>\n",
       "      <td>7</td>\n",
       "      <td>{0,10)</td>\n",
       "      <td>{50,60)</td>\n",
       "      <td>1977</td>\n",
       "    </tr>\n",
       "    <tr>\n",
       "      <th>3</th>\n",
       "      <td>4</td>\n",
       "      <td>1</td>\n",
       "      <td>110</td>\n",
       "      <td>회사1</td>\n",
       "      <td>hole</td>\n",
       "      <td>0.000</td>\n",
       "      <td>102.2020</td>\n",
       "      <td>132.9860</td>\n",
       "      <td>TOXIC</td>\n",
       "      <td>0.000000</td>\n",
       "      <td>...</td>\n",
       "      <td>1321.31</td>\n",
       "      <td>1</td>\n",
       "      <td>2</td>\n",
       "      <td>5.9</td>\n",
       "      <td>20</td>\n",
       "      <td>2</td>\n",
       "      <td>7</td>\n",
       "      <td>{0,10)</td>\n",
       "      <td>{50,60)</td>\n",
       "      <td>1977</td>\n",
       "    </tr>\n",
       "    <tr>\n",
       "      <th>4</th>\n",
       "      <td>5</td>\n",
       "      <td>1</td>\n",
       "      <td>110</td>\n",
       "      <td>회사1</td>\n",
       "      <td>hole</td>\n",
       "      <td>0.000</td>\n",
       "      <td>102.2020</td>\n",
       "      <td>132.9860</td>\n",
       "      <td>RADIATION</td>\n",
       "      <td>18335.731880</td>\n",
       "      <td>...</td>\n",
       "      <td>1321.31</td>\n",
       "      <td>1</td>\n",
       "      <td>2</td>\n",
       "      <td>5.9</td>\n",
       "      <td>20</td>\n",
       "      <td>2</td>\n",
       "      <td>7</td>\n",
       "      <td>{0,10)</td>\n",
       "      <td>{50,60)</td>\n",
       "      <td>1977</td>\n",
       "    </tr>\n",
       "    <tr>\n",
       "      <th>...</th>\n",
       "      <td>...</td>\n",
       "      <td>...</td>\n",
       "      <td>...</td>\n",
       "      <td>...</td>\n",
       "      <td>...</td>\n",
       "      <td>...</td>\n",
       "      <td>...</td>\n",
       "      <td>...</td>\n",
       "      <td>...</td>\n",
       "      <td>...</td>\n",
       "      <td>...</td>\n",
       "      <td>...</td>\n",
       "      <td>...</td>\n",
       "      <td>...</td>\n",
       "      <td>...</td>\n",
       "      <td>...</td>\n",
       "      <td>...</td>\n",
       "      <td>...</td>\n",
       "      <td>...</td>\n",
       "      <td>...</td>\n",
       "      <td>...</td>\n",
       "    </tr>\n",
       "    <tr>\n",
       "      <th>12712</th>\n",
       "      <td>12713</td>\n",
       "      <td>110</td>\n",
       "      <td>500682</td>\n",
       "      <td>회사10</td>\n",
       "      <td>hole</td>\n",
       "      <td>122.671</td>\n",
       "      <td>69.3812</td>\n",
       "      <td>79.2002</td>\n",
       "      <td>RADIATION</td>\n",
       "      <td>6299.461244</td>\n",
       "      <td>...</td>\n",
       "      <td>339.00</td>\n",
       "      <td>1</td>\n",
       "      <td>2</td>\n",
       "      <td>6.0</td>\n",
       "      <td>20</td>\n",
       "      <td>2</td>\n",
       "      <td>6</td>\n",
       "      <td>{0,10)</td>\n",
       "      <td>{100,110)</td>\n",
       "      <td>1998</td>\n",
       "    </tr>\n",
       "    <tr>\n",
       "      <th>12713</th>\n",
       "      <td>12714</td>\n",
       "      <td>110</td>\n",
       "      <td>500682</td>\n",
       "      <td>회사10</td>\n",
       "      <td>hole</td>\n",
       "      <td>122.671</td>\n",
       "      <td>69.3812</td>\n",
       "      <td>79.2002</td>\n",
       "      <td>EXPLOSION</td>\n",
       "      <td>0.000000</td>\n",
       "      <td>...</td>\n",
       "      <td>339.00</td>\n",
       "      <td>1</td>\n",
       "      <td>2</td>\n",
       "      <td>6.0</td>\n",
       "      <td>20</td>\n",
       "      <td>2</td>\n",
       "      <td>6</td>\n",
       "      <td>{0,10)</td>\n",
       "      <td>{100,110)</td>\n",
       "      <td>1998</td>\n",
       "    </tr>\n",
       "    <tr>\n",
       "      <th>12714</th>\n",
       "      <td>12715</td>\n",
       "      <td>110</td>\n",
       "      <td>500682</td>\n",
       "      <td>회사10</td>\n",
       "      <td>pinhole</td>\n",
       "      <td>0.000</td>\n",
       "      <td>10.0237</td>\n",
       "      <td>0.0000</td>\n",
       "      <td>TOXIC</td>\n",
       "      <td>0.000000</td>\n",
       "      <td>...</td>\n",
       "      <td>339.00</td>\n",
       "      <td>1</td>\n",
       "      <td>2</td>\n",
       "      <td>6.0</td>\n",
       "      <td>20</td>\n",
       "      <td>2</td>\n",
       "      <td>6</td>\n",
       "      <td>{0,10)</td>\n",
       "      <td>{100,110)</td>\n",
       "      <td>1998</td>\n",
       "    </tr>\n",
       "    <tr>\n",
       "      <th>12715</th>\n",
       "      <td>12716</td>\n",
       "      <td>110</td>\n",
       "      <td>500682</td>\n",
       "      <td>회사10</td>\n",
       "      <td>pinhole</td>\n",
       "      <td>0.000</td>\n",
       "      <td>10.0237</td>\n",
       "      <td>0.0000</td>\n",
       "      <td>RADIATION</td>\n",
       "      <td>90.441668</td>\n",
       "      <td>...</td>\n",
       "      <td>339.00</td>\n",
       "      <td>1</td>\n",
       "      <td>2</td>\n",
       "      <td>6.0</td>\n",
       "      <td>20</td>\n",
       "      <td>2</td>\n",
       "      <td>6</td>\n",
       "      <td>{0,10)</td>\n",
       "      <td>{100,110)</td>\n",
       "      <td>1998</td>\n",
       "    </tr>\n",
       "    <tr>\n",
       "      <th>12716</th>\n",
       "      <td>12717</td>\n",
       "      <td>110</td>\n",
       "      <td>500682</td>\n",
       "      <td>회사10</td>\n",
       "      <td>pinhole</td>\n",
       "      <td>0.000</td>\n",
       "      <td>10.0237</td>\n",
       "      <td>0.0000</td>\n",
       "      <td>EXPLOSION</td>\n",
       "      <td>0.000000</td>\n",
       "      <td>...</td>\n",
       "      <td>339.00</td>\n",
       "      <td>1</td>\n",
       "      <td>2</td>\n",
       "      <td>6.0</td>\n",
       "      <td>20</td>\n",
       "      <td>2</td>\n",
       "      <td>6</td>\n",
       "      <td>{0,10)</td>\n",
       "      <td>{100,110)</td>\n",
       "      <td>1998</td>\n",
       "    </tr>\n",
       "  </tbody>\n",
       "</table>\n",
       "<p>12717 rows × 22 columns</p>\n",
       "</div>"
      ],
      "text/plain": [
       "       ACDNT_DMGE_SCALE_UQNUM  ACDNT_DMGE_SCALE_NO  PIPE_NO CO_INFO  \\\n",
       "0                           1                    1      110     회사1   \n",
       "1                           2                    1      110     회사1   \n",
       "2                           3                    1      110     회사1   \n",
       "3                           4                    1      110     회사1   \n",
       "4                           5                    1      110     회사1   \n",
       "...                       ...                  ...      ...     ...   \n",
       "12712                   12713                  110   500682    회사10   \n",
       "12713                   12714                  110   500682    회사10   \n",
       "12714                   12715                  110   500682    회사10   \n",
       "12715                   12716                  110   500682    회사10   \n",
       "12716                   12717                  110   500682    회사10   \n",
       "\n",
       "      ACDNT_TYPE  TOXICITY_DIST  RDA_DIST  EXPS_DIST  DMGE_TYPE  \\\n",
       "0        rupture          0.000  118.9590   167.4820      TOXIC   \n",
       "1        rupture          0.000  118.9590   167.4820  RADIATION   \n",
       "2        rupture          0.000  118.9590   167.4820  EXPLOSION   \n",
       "3           hole          0.000  102.2020   132.9860      TOXIC   \n",
       "4           hole          0.000  102.2020   132.9860  RADIATION   \n",
       "...          ...            ...       ...        ...        ...   \n",
       "12712       hole        122.671   69.3812    79.2002  RADIATION   \n",
       "12713       hole        122.671   69.3812    79.2002  EXPLOSION   \n",
       "12714    pinhole          0.000   10.0237     0.0000      TOXIC   \n",
       "12715    pinhole          0.000   10.0237     0.0000  RADIATION   \n",
       "12716    pinhole          0.000   10.0237     0.0000  EXPLOSION   \n",
       "\n",
       "       PIPE_ACDNT_DMGE_ARA  ...  PIPE_LT  PIPE_MATR_CODE  PIPE_COAT_MATR_CODE  \\\n",
       "0                 0.000000  ...  1321.31               1                    2   \n",
       "1             25428.065750  ...  1321.31               1                    2   \n",
       "2                 0.000000  ...  1321.31               1                    2   \n",
       "3                 0.000000  ...  1321.31               1                    2   \n",
       "4             18335.731880  ...  1321.31               1                    2   \n",
       "...                    ...  ...      ...             ...                  ...   \n",
       "12712          6299.461244  ...   339.00               1                    2   \n",
       "12713             0.000000  ...   339.00               1                    2   \n",
       "12714             0.000000  ...   339.00               1                    2   \n",
       "12715            90.441668  ...   339.00               1                    2   \n",
       "12716             0.000000  ...   339.00               1                    2   \n",
       "\n",
       "       PIPE_DESGN_THICKNESS  PIPE_OPRT_TP  PIPE_INNER_FUD_STA_CODE  MATR_CODE  \\\n",
       "0                       5.9            20                        2          7   \n",
       "1                       5.9            20                        2          7   \n",
       "2                       5.9            20                        2          7   \n",
       "3                       5.9            20                        2          7   \n",
       "4                       5.9            20                        2          7   \n",
       "...                     ...           ...                      ...        ...   \n",
       "12712                   6.0            20                        2          6   \n",
       "12713                   6.0            20                        2          6   \n",
       "12714                   6.0            20                        2          6   \n",
       "12715                   6.0            20                        2          6   \n",
       "12716                   6.0            20                        2          6   \n",
       "\n",
       "       PIPE_PRESSURE  PIPE_FLRT PIPE_INSTL_YEAR  \n",
       "0             {0,10)    {50,60)            1977  \n",
       "1             {0,10)    {50,60)            1977  \n",
       "2             {0,10)    {50,60)            1977  \n",
       "3             {0,10)    {50,60)            1977  \n",
       "4             {0,10)    {50,60)            1977  \n",
       "...              ...        ...             ...  \n",
       "12712         {0,10)  {100,110)            1998  \n",
       "12713         {0,10)  {100,110)            1998  \n",
       "12714         {0,10)  {100,110)            1998  \n",
       "12715         {0,10)  {100,110)            1998  \n",
       "12716         {0,10)  {100,110)            1998  \n",
       "\n",
       "[12717 rows x 22 columns]"
      ]
     },
     "execution_count": 4,
     "metadata": {},
     "output_type": "execute_result"
    }
   ],
   "source": [
    "df"
   ]
  },
  {
   "cell_type": "code",
   "execution_count": 7,
   "id": "dc49e2d8",
   "metadata": {},
   "outputs": [
    {
     "name": "stdout",
     "output_type": "stream",
     "text": [
      "<class 'pandas.core.frame.DataFrame'>\n",
      "RangeIndex: 12717 entries, 0 to 12716\n",
      "Data columns (total 22 columns):\n",
      " #   Column                    Non-Null Count  Dtype  \n",
      "---  ------                    --------------  -----  \n",
      " 0   ACDNT_DMGE_SCALE_UQNUM    12717 non-null  int64  \n",
      " 1   ACDNT_DMGE_SCALE_NO       12717 non-null  int64  \n",
      " 2   PIPE_NO                   12717 non-null  int64  \n",
      " 3   CO_INFO                   12717 non-null  object \n",
      " 4   ACDNT_TYPE                12717 non-null  object \n",
      " 5   TOXICITY_DIST             12717 non-null  float64\n",
      " 6   RDA_DIST                  12717 non-null  float64\n",
      " 7   EXPS_DIST                 12717 non-null  float64\n",
      " 8   DMGE_TYPE                 12717 non-null  object \n",
      " 9   PIPE_ACDNT_DMGE_ARA       12717 non-null  float64\n",
      " 10  PIPE_ACDNT_DMGE_ARA_RANK  8476 non-null   object \n",
      " 11  PIPE_DIA                  12717 non-null  int64  \n",
      " 12  PIPE_LT                   12717 non-null  float64\n",
      " 13  PIPE_MATR_CODE            12717 non-null  int64  \n",
      " 14  PIPE_COAT_MATR_CODE       12717 non-null  int64  \n",
      " 15  PIPE_DESGN_THICKNESS      12717 non-null  float64\n",
      " 16  PIPE_OPRT_TP              12717 non-null  int64  \n",
      " 17  PIPE_INNER_FUD_STA_CODE   12717 non-null  int64  \n",
      " 18  MATR_CODE                 12717 non-null  int64  \n",
      " 19  PIPE_PRESSURE             12717 non-null  object \n",
      " 20  PIPE_FLRT                 12717 non-null  object \n",
      " 21  PIPE_INSTL_YEAR           12717 non-null  int64  \n",
      "dtypes: float64(6), int64(10), object(6)\n",
      "memory usage: 2.1+ MB\n"
     ]
    }
   ],
   "source": [
    "df.info()"
   ]
  },
  {
   "cell_type": "code",
   "execution_count": 8,
   "id": "b2ac5981",
   "metadata": {},
   "outputs": [
    {
     "data": {
      "text/plain": [
       "ACDNT_DMGE_SCALE_UQNUM         0\n",
       "ACDNT_DMGE_SCALE_NO            0\n",
       "PIPE_NO                        0\n",
       "CO_INFO                        0\n",
       "ACDNT_TYPE                     0\n",
       "TOXICITY_DIST                  0\n",
       "RDA_DIST                       0\n",
       "EXPS_DIST                      0\n",
       "DMGE_TYPE                      0\n",
       "PIPE_ACDNT_DMGE_ARA            0\n",
       "PIPE_ACDNT_DMGE_ARA_RANK    4241\n",
       "PIPE_DIA                       0\n",
       "PIPE_LT                        0\n",
       "PIPE_MATR_CODE                 0\n",
       "PIPE_COAT_MATR_CODE            0\n",
       "PIPE_DESGN_THICKNESS           0\n",
       "PIPE_OPRT_TP                   0\n",
       "PIPE_INNER_FUD_STA_CODE        0\n",
       "MATR_CODE                      0\n",
       "PIPE_PRESSURE                  0\n",
       "PIPE_FLRT                      0\n",
       "PIPE_INSTL_YEAR                0\n",
       "dtype: int64"
      ]
     },
     "execution_count": 8,
     "metadata": {},
     "output_type": "execute_result"
    }
   ],
   "source": [
    "df.isnull().sum()\n",
    "#PIP_ACDNT_DMGE_ARA_RANK = 배관사고 피해면적 등급"
   ]
  },
  {
   "cell_type": "code",
   "execution_count": 9,
   "id": "510179ce",
   "metadata": {},
   "outputs": [
    {
     "data": {
      "text/plain": [
       "<AxesSubplot:>"
      ]
     },
     "execution_count": 9,
     "metadata": {},
     "output_type": "execute_result"
    },
    {
     "data": {
      "image/png": "[encoded data removed]",
      "text/plain": [
       "<Figure size 576x576 with 2 Axes>"
      ]
     },
     "metadata": {
      "needs_background": "light"
     },
     "output_type": "display_data"
    }
   ],
   "source": [
    "msno.matrix(df=df.iloc[:,:],figsize=(8,8),color=(0.5,0.5,0.5))"
   ]
  },
  {
   "cell_type": "code",
   "execution_count": 10,
   "id": "6764712e",
   "metadata": {},
   "outputs": [
    {
     "data": {
      "text/plain": [
       "<AxesSubplot:>"
      ]
     },
     "execution_count": 10,
     "metadata": {},
     "output_type": "execute_result"
    },
    {
     "data": {
      "image/png": "[encoded data removed]",
      "text/plain": [
       "<Figure size 576x576 with 3 Axes>"
      ]
     },
     "metadata": {
      "needs_background": "light"
     },
     "output_type": "display_data"
    }
   ],
   "source": [
    "msno.bar(df=df.iloc[:,:],figsize=(8,8),color=(0.8,0.5,0.2))"
   ]
  },
  {
   "cell_type": "code",
   "execution_count": 16,
   "id": "fdc7e284",
   "metadata": {},
   "outputs": [],
   "source": [
    "col_type=(df.columns[4])"
   ]
  },
  {
   "cell_type": "code",
   "execution_count": 14,
   "id": "5870aa14",
   "metadata": {},
   "outputs": [
    {
     "data": {
      "text/plain": [
       "Index(['ACDNT_DMGE_SCALE_UQNUM', 'ACDNT_DMGE_SCALE_NO', 'PIPE_NO', 'CO_INFO',\n",
       "       'ACDNT_TYPE', 'TOXICITY_DIST', 'RDA_DIST', 'EXPS_DIST', 'DMGE_TYPE',\n",
       "       'PIPE_ACDNT_DMGE_ARA', 'PIPE_ACDNT_DMGE_ARA_RANK', 'PIPE_DIA',\n",
       "       'PIPE_LT', 'PIPE_MATR_CODE', 'PIPE_COAT_MATR_CODE',\n",
       "       'PIPE_DESGN_THICKNESS', 'PIPE_OPRT_TP', 'PIPE_INNER_FUD_STA_CODE',\n",
       "       'MATR_CODE', 'PIPE_PRESSURE', 'PIPE_FLRT', 'PIPE_INSTL_YEAR'],\n",
       "      dtype='object')"
      ]
     },
     "execution_count": 14,
     "metadata": {},
     "output_type": "execute_result"
    }
   ],
   "source": [
    "df.columns"
   ]
  },
  {
   "cell_type": "code",
   "execution_count": 15,
   "id": "840a8992",
   "metadata": {},
   "outputs": [
    {
     "data": {
      "text/plain": [
       "'ACDNT_TYPE'"
      ]
     },
     "execution_count": 15,
     "metadata": {},
     "output_type": "execute_result"
    }
   ],
   "source": [
    "df.columns[4]"
   ]
  },
  {
   "cell_type": "code",
   "execution_count": 17,
   "id": "b6633b93",
   "metadata": {},
   "outputs": [
    {
     "data": {
      "text/plain": [
       "'ACDNT_TYPE'"
      ]
     },
     "execution_count": 17,
     "metadata": {},
     "output_type": "execute_result"
    }
   ],
   "source": [
    "col_type"
   ]
  },
  {
   "cell_type": "code",
   "execution_count": 19,
   "id": "26488f31",
   "metadata": {},
   "outputs": [
    {
     "data": {
      "text/plain": [
       "0        rupture\n",
       "1        rupture\n",
       "2        rupture\n",
       "3           hole\n",
       "4           hole\n",
       "          ...   \n",
       "12712       hole\n",
       "12713       hole\n",
       "12714    pinhole\n",
       "12715    pinhole\n",
       "12716    pinhole\n",
       "Name: ACDNT_TYPE, Length: 12717, dtype: object"
      ]
     },
     "execution_count": 19,
     "metadata": {},
     "output_type": "execute_result"
    }
   ],
   "source": [
    "df_reduced=df[col_type]\n",
    "df_reduced"
   ]
  },
  {
   "cell_type": "code",
   "execution_count": 20,
   "id": "f723914e",
   "metadata": {},
   "outputs": [
    {
     "data": {
      "text/plain": [
       "0"
      ]
     },
     "execution_count": 20,
     "metadata": {},
     "output_type": "execute_result"
    }
   ],
   "source": [
    "df_reduced.isnull().sum().sum()"
   ]
  },
  {
   "cell_type": "code",
   "execution_count": 21,
   "id": "f14a50bb",
   "metadata": {},
   "outputs": [],
   "source": [
    "temp=df_reduced.T.values.flatten()"
   ]
  },
  {
   "cell_type": "code",
   "execution_count": 22,
   "id": "6fb60072",
   "metadata": {},
   "outputs": [
    {
     "data": {
      "text/plain": [
       "array(['rupture', 'rupture', 'rupture', ..., 'pinhole', 'pinhole',\n",
       "       'pinhole'], dtype=object)"
      ]
     },
     "execution_count": 22,
     "metadata": {},
     "output_type": "execute_result"
    }
   ],
   "source": [
    "temp"
   ]
  },
  {
   "cell_type": "code",
   "execution_count": 29,
   "id": "0049e011",
   "metadata": {},
   "outputs": [
    {
     "data": {
      "image/png": "[encoded data removed]",
      "text/plain": [
       "<Figure size 432x288 with 1 Axes>"
      ]
     },
     "metadata": {
      "needs_background": "light"
     },
     "output_type": "display_data"
    }
   ],
   "source": [
    "steps=100 #input 기간\n",
    "i=-30\n",
    "plt.plot(temp[i-steps:i],marker=\"o\",c=\"C0\",alpha=0.7);"
   ]
  },
  {
   "cell_type": "code",
   "execution_count": 30,
   "id": "69a3b6de",
   "metadata": {},
   "outputs": [
    {
     "data": {
      "text/html": [
       "<div>\n",
       "<style scoped>\n",
       "    .dataframe tbody tr th:only-of-type {\n",
       "        vertical-align: middle;\n",
       "    }\n",
       "\n",
       "    .dataframe tbody tr th {\n",
       "        vertical-align: top;\n",
       "    }\n",
       "\n",
       "    .dataframe thead th {\n",
       "        text-align: right;\n",
       "    }\n",
       "</style>\n",
       "<table border=\"1\" class=\"dataframe\">\n",
       "  <thead>\n",
       "    <tr style=\"text-align: right;\">\n",
       "      <th></th>\n",
       "      <th>ACDNT_DMGE_SCALE_UQNUM</th>\n",
       "      <th>ACDNT_DMGE_SCALE_NO</th>\n",
       "      <th>PIPE_NO</th>\n",
       "      <th>TOXICITY_DIST</th>\n",
       "      <th>RDA_DIST</th>\n",
       "      <th>EXPS_DIST</th>\n",
       "      <th>PIPE_ACDNT_DMGE_ARA</th>\n",
       "      <th>PIPE_DIA</th>\n",
       "      <th>PIPE_LT</th>\n",
       "      <th>PIPE_MATR_CODE</th>\n",
       "      <th>PIPE_COAT_MATR_CODE</th>\n",
       "      <th>PIPE_DESGN_THICKNESS</th>\n",
       "      <th>PIPE_OPRT_TP</th>\n",
       "      <th>PIPE_INNER_FUD_STA_CODE</th>\n",
       "      <th>MATR_CODE</th>\n",
       "      <th>PIPE_INSTL_YEAR</th>\n",
       "    </tr>\n",
       "  </thead>\n",
       "  <tbody>\n",
       "    <tr>\n",
       "      <th>count</th>\n",
       "      <td>12717.000000</td>\n",
       "      <td>12717.000000</td>\n",
       "      <td>12717.000000</td>\n",
       "      <td>12717.000000</td>\n",
       "      <td>12717.000000</td>\n",
       "      <td>12717.000000</td>\n",
       "      <td>1.271700e+04</td>\n",
       "      <td>12717.000000</td>\n",
       "      <td>12717.000000</td>\n",
       "      <td>12717.0</td>\n",
       "      <td>12717.0</td>\n",
       "      <td>12717.000000</td>\n",
       "      <td>12717.000000</td>\n",
       "      <td>12717.000000</td>\n",
       "      <td>12717.000000</td>\n",
       "      <td>12717.000000</td>\n",
       "    </tr>\n",
       "    <tr>\n",
       "      <th>mean</th>\n",
       "      <td>6359.000000</td>\n",
       "      <td>47.664544</td>\n",
       "      <td>431091.252654</td>\n",
       "      <td>116.548685</td>\n",
       "      <td>94.022565</td>\n",
       "      <td>373.823806</td>\n",
       "      <td>1.744848e+04</td>\n",
       "      <td>120.233546</td>\n",
       "      <td>732.589108</td>\n",
       "      <td>1.0</td>\n",
       "      <td>2.0</td>\n",
       "      <td>7.289660</td>\n",
       "      <td>18.830149</td>\n",
       "      <td>1.853503</td>\n",
       "      <td>5.590234</td>\n",
       "      <td>1954.520170</td>\n",
       "    </tr>\n",
       "    <tr>\n",
       "      <th>std</th>\n",
       "      <td>3671.226021</td>\n",
       "      <td>35.522121</td>\n",
       "      <td>357683.989257</td>\n",
       "      <td>253.586393</td>\n",
       "      <td>59.760023</td>\n",
       "      <td>2662.277002</td>\n",
       "      <td>1.004972e+05</td>\n",
       "      <td>37.937193</td>\n",
       "      <td>678.226907</td>\n",
       "      <td>0.0</td>\n",
       "      <td>0.0</td>\n",
       "      <td>5.414548</td>\n",
       "      <td>6.120829</td>\n",
       "      <td>0.353617</td>\n",
       "      <td>2.630126</td>\n",
       "      <td>257.092892</td>\n",
       "    </tr>\n",
       "    <tr>\n",
       "      <th>min</th>\n",
       "      <td>1.000000</td>\n",
       "      <td>1.000000</td>\n",
       "      <td>0.000000</td>\n",
       "      <td>0.000000</td>\n",
       "      <td>0.000000</td>\n",
       "      <td>0.000000</td>\n",
       "      <td>0.000000e+00</td>\n",
       "      <td>0.000000</td>\n",
       "      <td>0.000000</td>\n",
       "      <td>1.0</td>\n",
       "      <td>2.0</td>\n",
       "      <td>0.000000</td>\n",
       "      <td>0.000000</td>\n",
       "      <td>1.000000</td>\n",
       "      <td>1.000000</td>\n",
       "      <td>0.000000</td>\n",
       "    </tr>\n",
       "    <tr>\n",
       "      <th>25%</th>\n",
       "      <td>3180.000000</td>\n",
       "      <td>17.000000</td>\n",
       "      <td>836.000000</td>\n",
       "      <td>0.000000</td>\n",
       "      <td>41.937500</td>\n",
       "      <td>26.452400</td>\n",
       "      <td>0.000000e+00</td>\n",
       "      <td>100.000000</td>\n",
       "      <td>336.700000</td>\n",
       "      <td>1.0</td>\n",
       "      <td>2.0</td>\n",
       "      <td>5.900000</td>\n",
       "      <td>20.000000</td>\n",
       "      <td>2.000000</td>\n",
       "      <td>3.000000</td>\n",
       "      <td>1979.000000</td>\n",
       "    </tr>\n",
       "    <tr>\n",
       "      <th>50%</th>\n",
       "      <td>6359.000000</td>\n",
       "      <td>41.000000</td>\n",
       "      <td>500312.000000</td>\n",
       "      <td>0.000000</td>\n",
       "      <td>93.736400</td>\n",
       "      <td>68.306000</td>\n",
       "      <td>0.000000e+00</td>\n",
       "      <td>100.000000</td>\n",
       "      <td>478.130000</td>\n",
       "      <td>1.0</td>\n",
       "      <td>2.0</td>\n",
       "      <td>6.020000</td>\n",
       "      <td>20.000000</td>\n",
       "      <td>2.000000</td>\n",
       "      <td>6.000000</td>\n",
       "      <td>1986.000000</td>\n",
       "    </tr>\n",
       "    <tr>\n",
       "      <th>75%</th>\n",
       "      <td>9538.000000</td>\n",
       "      <td>75.000000</td>\n",
       "      <td>820203.000000</td>\n",
       "      <td>141.835000</td>\n",
       "      <td>127.054000</td>\n",
       "      <td>149.512000</td>\n",
       "      <td>2.027454e+03</td>\n",
       "      <td>150.000000</td>\n",
       "      <td>1065.500000</td>\n",
       "      <td>1.0</td>\n",
       "      <td>2.0</td>\n",
       "      <td>7.100000</td>\n",
       "      <td>20.000000</td>\n",
       "      <td>2.000000</td>\n",
       "      <td>7.000000</td>\n",
       "      <td>1996.000000</td>\n",
       "    </tr>\n",
       "    <tr>\n",
       "      <th>max</th>\n",
       "      <td>12717.000000</td>\n",
       "      <td>150.000000</td>\n",
       "      <td>830253.000000</td>\n",
       "      <td>1237.590000</td>\n",
       "      <td>345.204000</td>\n",
       "      <td>32831.785900</td>\n",
       "      <td>1.202329e+06</td>\n",
       "      <td>200.000000</td>\n",
       "      <td>3367.910000</td>\n",
       "      <td>1.0</td>\n",
       "      <td>2.0</td>\n",
       "      <td>40.000000</td>\n",
       "      <td>40.000000</td>\n",
       "      <td>2.000000</td>\n",
       "      <td>10.000000</td>\n",
       "      <td>2008.000000</td>\n",
       "    </tr>\n",
       "  </tbody>\n",
       "</table>\n",
       "</div>"
      ],
      "text/plain": [
       "       ACDNT_DMGE_SCALE_UQNUM  ACDNT_DMGE_SCALE_NO        PIPE_NO  \\\n",
       "count            12717.000000         12717.000000   12717.000000   \n",
       "mean              6359.000000            47.664544  431091.252654   \n",
       "std               3671.226021            35.522121  357683.989257   \n",
       "min                  1.000000             1.000000       0.000000   \n",
       "25%               3180.000000            17.000000     836.000000   \n",
       "50%               6359.000000            41.000000  500312.000000   \n",
       "75%               9538.000000            75.000000  820203.000000   \n",
       "max              12717.000000           150.000000  830253.000000   \n",
       "\n",
       "       TOXICITY_DIST      RDA_DIST     EXPS_DIST  PIPE_ACDNT_DMGE_ARA  \\\n",
       "count   12717.000000  12717.000000  12717.000000         1.271700e+04   \n",
       "mean      116.548685     94.022565    373.823806         1.744848e+04   \n",
       "std       253.586393     59.760023   2662.277002         1.004972e+05   \n",
       "min         0.000000      0.000000      0.000000         0.000000e+00   \n",
       "25%         0.000000     41.937500     26.452400         0.000000e+00   \n",
       "50%         0.000000     93.736400     68.306000         0.000000e+00   \n",
       "75%       141.835000    127.054000    149.512000         2.027454e+03   \n",
       "max      1237.590000    345.204000  32831.785900         1.202329e+06   \n",
       "\n",
       "           PIPE_DIA       PIPE_LT  PIPE_MATR_CODE  PIPE_COAT_MATR_CODE  \\\n",
       "count  12717.000000  12717.000000         12717.0              12717.0   \n",
       "mean     120.233546    732.589108             1.0                  2.0   \n",
       "std       37.937193    678.226907             0.0                  0.0   \n",
       "min        0.000000      0.000000             1.0                  2.0   \n",
       "25%      100.000000    336.700000             1.0                  2.0   \n",
       "50%      100.000000    478.130000             1.0                  2.0   \n",
       "75%      150.000000   1065.500000             1.0                  2.0   \n",
       "max      200.000000   3367.910000             1.0                  2.0   \n",
       "\n",
       "       PIPE_DESGN_THICKNESS  PIPE_OPRT_TP  PIPE_INNER_FUD_STA_CODE  \\\n",
       "count          12717.000000  12717.000000             12717.000000   \n",
       "mean               7.289660     18.830149                 1.853503   \n",
       "std                5.414548      6.120829                 0.353617   \n",
       "min                0.000000      0.000000                 1.000000   \n",
       "25%                5.900000     20.000000                 2.000000   \n",
       "50%                6.020000     20.000000                 2.000000   \n",
       "75%                7.100000     20.000000                 2.000000   \n",
       "max               40.000000     40.000000                 2.000000   \n",
       "\n",
       "          MATR_CODE  PIPE_INSTL_YEAR  \n",
       "count  12717.000000     12717.000000  \n",
       "mean       5.590234      1954.520170  \n",
       "std        2.630126       257.092892  \n",
       "min        1.000000         0.000000  \n",
       "25%        3.000000      1979.000000  \n",
       "50%        6.000000      1986.000000  \n",
       "75%        7.000000      1996.000000  \n",
       "max       10.000000      2008.000000  "
      ]
     },
     "execution_count": 30,
     "metadata": {},
     "output_type": "execute_result"
    }
   ],
   "source": [
    "df.describe()"
   ]
  },
  {
   "cell_type": "code",
   "execution_count": 34,
   "id": "a3c808a1",
   "metadata": {
    "scrolled": true
   },
   "outputs": [
    {
     "name": "stderr",
     "output_type": "stream",
     "text": [
      "C:\\Users\\johayoung\\anaconda3\\envs\\johayoung\\lib\\site-packages\\ipykernel_launcher.py:2: FutureWarning: Dropping of nuisance columns in DataFrame reductions (with 'numeric_only=None') is deprecated; in a future version this will raise TypeError.  Select only valid columns before calling the reduction.\n",
      "  \n"
     ]
    },
    {
     "data": {
      "text/plain": [
       "<AxesSubplot:>"
      ]
     },
     "execution_count": 34,
     "metadata": {},
     "output_type": "execute_result"
    },
    {
     "data": {
      "image/png": "[encoded data removed]",
      "text/plain": [
       "<Figure size 1080x72 with 1 Axes>"
      ]
     },
     "metadata": {
      "needs_background": "light"
     },
     "output_type": "display_data"
    }
   ],
   "source": [
    "plt.figure(figsize=(15,1))\n",
    "df.mean().plot()"
   ]
  },
  {
   "cell_type": "code",
   "execution_count": 35,
   "id": "2ee0b4f0",
   "metadata": {},
   "outputs": [],
   "source": [
    "col_toxicity=df.columns[5]"
   ]
  },
  {
   "cell_type": "code",
   "execution_count": 38,
   "id": "17dd1d2f",
   "metadata": {},
   "outputs": [
    {
     "data": {
      "text/plain": [
       "'TOXICITY_DIST'"
      ]
     },
     "execution_count": 38,
     "metadata": {},
     "output_type": "execute_result"
    }
   ],
   "source": [
    "df.columns[5]"
   ]
  },
  {
   "cell_type": "code",
   "execution_count": 39,
   "id": "5350561d",
   "metadata": {},
   "outputs": [
    {
     "data": {
      "text/plain": [
       "0          0.000\n",
       "1          0.000\n",
       "2          0.000\n",
       "3          0.000\n",
       "4          0.000\n",
       "          ...   \n",
       "12712    122.671\n",
       "12713    122.671\n",
       "12714      0.000\n",
       "12715      0.000\n",
       "12716      0.000\n",
       "Name: TOXICITY_DIST, Length: 12717, dtype: float64"
      ]
     },
     "execution_count": 39,
     "metadata": {},
     "output_type": "execute_result"
    }
   ],
   "source": [
    "df_reduced2=df[col_toxicity]\n",
    "df_reduced2"
   ]
  },
  {
   "cell_type": "code",
   "execution_count": 40,
   "id": "6c248ff8",
   "metadata": {},
   "outputs": [
    {
     "ename": "AttributeError",
     "evalue": "'numpy.float64' object has no attribute 'plot'",
     "output_type": "error",
     "traceback": [
      "\u001b[1;31m---------------------------------------------------------------------------\u001b[0m",
      "\u001b[1;31mAttributeError\u001b[0m                            Traceback (most recent call last)",
      "\u001b[1;32m~\\AppData\\Local\\Temp\\ipykernel_9336\\638237074.py\u001b[0m in \u001b[0;36m<module>\u001b[1;34m\u001b[0m\n\u001b[0;32m      1\u001b[0m \u001b[0mplt\u001b[0m\u001b[1;33m.\u001b[0m\u001b[0mfigure\u001b[0m\u001b[1;33m(\u001b[0m\u001b[0mfigsize\u001b[0m\u001b[1;33m=\u001b[0m\u001b[1;33m(\u001b[0m\u001b[1;36m15\u001b[0m\u001b[1;33m,\u001b[0m\u001b[1;36m5\u001b[0m\u001b[1;33m)\u001b[0m\u001b[1;33m)\u001b[0m\u001b[1;33m\u001b[0m\u001b[1;33m\u001b[0m\u001b[0m\n\u001b[1;32m----> 2\u001b[1;33m \u001b[0mdf_reduced2\u001b[0m\u001b[1;33m.\u001b[0m\u001b[0mmean\u001b[0m\u001b[1;33m(\u001b[0m\u001b[1;33m)\u001b[0m\u001b[1;33m.\u001b[0m\u001b[0mplot\u001b[0m\u001b[1;33m(\u001b[0m\u001b[1;33m)\u001b[0m\u001b[1;33m\u001b[0m\u001b[1;33m\u001b[0m\u001b[0m\n\u001b[0m",
      "\u001b[1;31mAttributeError\u001b[0m: 'numpy.float64' object has no attribute 'plot'"
     ]
    },
    {
     "data": {
      "text/plain": [
       "<Figure size 1080x360 with 0 Axes>"
      ]
     },
     "metadata": {},
     "output_type": "display_data"
    }
   ],
   "source": [
    "plt.figure(figsize=(15,5))\n",
    "df_reduced2.mean().plot()"
   ]
  },
  {
   "cell_type": "code",
   "execution_count": null,
   "id": "36a73623",
   "metadata": {},
   "outputs": [],
   "source": []
  }
 ],
 "metadata": {
  "kernelspec": {
   "display_name": "Python 3 (ipykernel)",
   "language": "python",
   "name": "python3"
  },
  "language_info": {
   "codemirror_mode": {
    "name": "ipython",
    "version": 3
   },
   "file_extension": ".py",
   "mimetype": "text/x-python",
   "name": "python",
   "nbconvert_exporter": "python",
   "pygments_lexer": "ipython3",
   "version": "3.7.13"
  }
 },
 "nbformat": 4,
 "nbformat_minor": 5
}
